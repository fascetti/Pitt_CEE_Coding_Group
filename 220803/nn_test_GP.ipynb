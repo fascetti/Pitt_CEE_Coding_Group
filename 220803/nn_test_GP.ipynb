{
 "cells": [
  {
   "cell_type": "code",
   "execution_count": 13,
   "metadata": {},
   "outputs": [
    {
     "data": {
      "text/plain": [
       "[<matplotlib.lines.Line2D at 0x7fce8e69c910>]"
      ]
     },
     "execution_count": 13,
     "metadata": {},
     "output_type": "execute_result"
    },
    {
     "data": {
      "image/png": "[encoded data removed]",
      "text/plain": [
       "<Figure size 432x288 with 1 Axes>"
      ]
     },
     "metadata": {
      "needs_background": "light"
     },
     "output_type": "display_data"
    }
   ],
   "source": [
    "import math\n",
    "import numpy as np\n",
    "import matplotlib.pyplot as plt\n",
    "from gplearn.genetic import SymbolicRegressor\n",
    "from sklearn.utils.random import check_random_state\n",
    "\n",
    "x =  np.arange(0,10,0.01)\n",
    "y = np.power(x,3) - np.multiply(12,x) + np.multiply(np.random.randn(len(x))*1,x)\n",
    "\n",
    "plt.plot(x,y)\n"
   ]
  },
  {
   "cell_type": "code",
   "execution_count": 18,
   "metadata": {},
   "outputs": [
    {
     "name": "stdout",
     "output_type": "stream",
     "text": [
      "Model: \"sequential_6\"\n",
      "_________________________________________________________________\n",
      " Layer (type)                Output Shape              Param #   \n",
      "=================================================================\n",
      " dense_12 (Dense)            (None, 500)               1000      \n",
      "                                                                 \n",
      " dense_13 (Dense)            (None, 1)                 501       \n",
      "                                                                 \n",
      "=================================================================\n",
      "Total params: 1,501\n",
      "Trainable params: 1,501\n",
      "Non-trainable params: 0\n",
      "_________________________________________________________________\n",
      "Epoch 1/100\n",
      "32/32 [==============================] - 0s 920us/step - loss: 0.0687\n",
      "Epoch 2/100\n",
      "32/32 [==============================] - 0s 808us/step - loss: 0.0204\n",
      "Epoch 3/100\n",
      "32/32 [==============================] - 0s 801us/step - loss: 0.0154\n",
      "Epoch 4/100\n",
      "32/32 [==============================] - 0s 793us/step - loss: 0.0146\n",
      "Epoch 5/100\n",
      "32/32 [==============================] - 0s 819us/step - loss: 0.0144\n",
      "Epoch 6/100\n",
      "32/32 [==============================] - 0s 818us/step - loss: 0.0147\n",
      "Epoch 7/100\n",
      "32/32 [==============================] - 0s 816us/step - loss: 0.0136\n",
      "Epoch 8/100\n",
      "32/32 [==============================] - 0s 828us/step - loss: 0.0124\n",
      "Epoch 9/100\n",
      "32/32 [==============================] - 0s 839us/step - loss: 0.0116\n",
      "Epoch 10/100\n",
      "32/32 [==============================] - 0s 827us/step - loss: 0.0104\n",
      "Epoch 11/100\n",
      "32/32 [==============================] - 0s 805us/step - loss: 0.0092\n",
      "Epoch 12/100\n",
      "32/32 [==============================] - 0s 818us/step - loss: 0.0076\n",
      "Epoch 13/100\n",
      "32/32 [==============================] - 0s 817us/step - loss: 0.0072\n",
      "Epoch 14/100\n",
      "32/32 [==============================] - 0s 810us/step - loss: 0.0053\n",
      "Epoch 15/100\n",
      "32/32 [==============================] - 0s 832us/step - loss: 0.0043\n",
      "Epoch 16/100\n",
      "32/32 [==============================] - 0s 851us/step - loss: 0.0036\n",
      "Epoch 17/100\n",
      "32/32 [==============================] - 0s 822us/step - loss: 0.0028\n",
      "Epoch 18/100\n",
      "32/32 [==============================] - 0s 825us/step - loss: 0.0023\n",
      "Epoch 19/100\n",
      "32/32 [==============================] - 0s 831us/step - loss: 0.0018\n",
      "Epoch 20/100\n",
      "32/32 [==============================] - 0s 828us/step - loss: 0.0017\n",
      "Epoch 21/100\n",
      "32/32 [==============================] - 0s 809us/step - loss: 0.0017\n",
      "Epoch 22/100\n",
      "32/32 [==============================] - 0s 825us/step - loss: 0.0012\n",
      "Epoch 23/100\n",
      "32/32 [==============================] - 0s 780us/step - loss: 0.0011\n",
      "Epoch 24/100\n",
      "32/32 [==============================] - 0s 800us/step - loss: 0.0010\n",
      "Epoch 25/100\n",
      "32/32 [==============================] - 0s 835us/step - loss: 6.8233e-04\n",
      "Epoch 26/100\n",
      "32/32 [==============================] - 0s 806us/step - loss: 6.4784e-04\n",
      "Epoch 27/100\n",
      "32/32 [==============================] - 0s 794us/step - loss: 7.9477e-04\n",
      "Epoch 28/100\n",
      "32/32 [==============================] - 0s 789us/step - loss: 6.0639e-04\n",
      "Epoch 29/100\n",
      "32/32 [==============================] - 0s 855us/step - loss: 4.4610e-04\n",
      "Epoch 30/100\n",
      "32/32 [==============================] - 0s 815us/step - loss: 4.6424e-04\n",
      "Epoch 31/100\n",
      "32/32 [==============================] - 0s 812us/step - loss: 3.9624e-04\n",
      "Epoch 32/100\n",
      "32/32 [==============================] - 0s 800us/step - loss: 3.7108e-04\n",
      "Epoch 33/100\n",
      "32/32 [==============================] - 0s 819us/step - loss: 4.7172e-04\n",
      "Epoch 34/100\n",
      "32/32 [==============================] - 0s 801us/step - loss: 2.7967e-04\n",
      "Epoch 35/100\n",
      "32/32 [==============================] - 0s 801us/step - loss: 2.8323e-04\n",
      "Epoch 36/100\n",
      "32/32 [==============================] - 0s 835us/step - loss: 2.2893e-04\n",
      "Epoch 37/100\n",
      "32/32 [==============================] - 0s 833us/step - loss: 2.1778e-04\n",
      "Epoch 38/100\n",
      "32/32 [==============================] - 0s 825us/step - loss: 2.0259e-04\n",
      "Epoch 39/100\n",
      "32/32 [==============================] - 0s 883us/step - loss: 2.2084e-04\n",
      "Epoch 40/100\n",
      "32/32 [==============================] - 0s 833us/step - loss: 1.7862e-04\n",
      "Epoch 41/100\n",
      "32/32 [==============================] - 0s 858us/step - loss: 1.9798e-04\n",
      "Epoch 42/100\n",
      "32/32 [==============================] - 0s 812us/step - loss: 1.9653e-04\n",
      "Epoch 43/100\n",
      "32/32 [==============================] - 0s 792us/step - loss: 1.8103e-04\n",
      "Epoch 44/100\n",
      "32/32 [==============================] - 0s 821us/step - loss: 2.3443e-04\n",
      "Epoch 45/100\n",
      "32/32 [==============================] - 0s 827us/step - loss: 1.5715e-04\n",
      "Epoch 46/100\n",
      "32/32 [==============================] - 0s 804us/step - loss: 1.5008e-04\n",
      "Epoch 47/100\n",
      "32/32 [==============================] - 0s 801us/step - loss: 1.3739e-04\n",
      "Epoch 48/100\n",
      "32/32 [==============================] - 0s 775us/step - loss: 1.1415e-04\n",
      "Epoch 49/100\n",
      "32/32 [==============================] - 0s 833us/step - loss: 1.1818e-04\n",
      "Epoch 50/100\n",
      "32/32 [==============================] - 0s 791us/step - loss: 1.2271e-04\n",
      "Epoch 51/100\n",
      "32/32 [==============================] - 0s 784us/step - loss: 1.5058e-04\n",
      "Epoch 52/100\n",
      "32/32 [==============================] - 0s 842us/step - loss: 3.0472e-04\n",
      "Epoch 53/100\n",
      "32/32 [==============================] - 0s 779us/step - loss: 3.3711e-04\n",
      "Epoch 54/100\n",
      "32/32 [==============================] - 0s 811us/step - loss: 2.0987e-04\n",
      "Epoch 55/100\n",
      "32/32 [==============================] - 0s 826us/step - loss: 1.0788e-04\n",
      "Epoch 56/100\n",
      "32/32 [==============================] - 0s 811us/step - loss: 1.1016e-04\n",
      "Epoch 57/100\n",
      "32/32 [==============================] - 0s 797us/step - loss: 1.1853e-04\n",
      "Epoch 58/100\n",
      "32/32 [==============================] - 0s 827us/step - loss: 1.1291e-04\n",
      "Epoch 59/100\n",
      "32/32 [==============================] - 0s 836us/step - loss: 9.8819e-05\n",
      "Epoch 60/100\n",
      "32/32 [==============================] - 0s 808us/step - loss: 8.1714e-05\n",
      "Epoch 61/100\n",
      "32/32 [==============================] - 0s 814us/step - loss: 9.2942e-05\n",
      "Epoch 62/100\n",
      "32/32 [==============================] - 0s 840us/step - loss: 7.6603e-05\n",
      "Epoch 63/100\n",
      "32/32 [==============================] - 0s 815us/step - loss: 1.1409e-04\n",
      "Epoch 64/100\n",
      "32/32 [==============================] - 0s 808us/step - loss: 1.2821e-04\n",
      "Epoch 65/100\n",
      "32/32 [==============================] - 0s 809us/step - loss: 7.9230e-05\n",
      "Epoch 66/100\n",
      "32/32 [==============================] - 0s 810us/step - loss: 1.0004e-04\n",
      "Epoch 67/100\n",
      "32/32 [==============================] - 0s 795us/step - loss: 8.0231e-05\n",
      "Epoch 68/100\n",
      "32/32 [==============================] - 0s 817us/step - loss: 1.7239e-04\n",
      "Epoch 69/100\n",
      "32/32 [==============================] - 0s 811us/step - loss: 7.6943e-05\n",
      "Epoch 70/100\n",
      "32/32 [==============================] - 0s 798us/step - loss: 8.3951e-05\n",
      "Epoch 71/100\n",
      "32/32 [==============================] - 0s 835us/step - loss: 9.3027e-05\n",
      "Epoch 72/100\n",
      "32/32 [==============================] - 0s 886us/step - loss: 9.9323e-05\n",
      "Epoch 73/100\n",
      "32/32 [==============================] - 0s 918us/step - loss: 6.8130e-05\n",
      "Epoch 74/100\n",
      "32/32 [==============================] - 0s 792us/step - loss: 8.8848e-05\n",
      "Epoch 75/100\n",
      "32/32 [==============================] - 0s 806us/step - loss: 1.0305e-04\n",
      "Epoch 76/100\n",
      "32/32 [==============================] - 0s 822us/step - loss: 1.0064e-04\n",
      "Epoch 77/100\n",
      "32/32 [==============================] - 0s 777us/step - loss: 1.1623e-04\n",
      "Epoch 78/100\n",
      "32/32 [==============================] - 0s 787us/step - loss: 1.1292e-04\n",
      "Epoch 79/100\n",
      "32/32 [==============================] - 0s 797us/step - loss: 1.1633e-04\n",
      "Epoch 80/100\n",
      "32/32 [==============================] - 0s 784us/step - loss: 1.4518e-04\n",
      "Epoch 81/100\n",
      "32/32 [==============================] - 0s 836us/step - loss: 2.4191e-04\n",
      "Epoch 82/100\n",
      "32/32 [==============================] - 0s 802us/step - loss: 1.3848e-04\n",
      "Epoch 83/100\n",
      "32/32 [==============================] - 0s 812us/step - loss: 7.5010e-05\n",
      "Epoch 84/100\n",
      "32/32 [==============================] - 0s 824us/step - loss: 7.4424e-05\n",
      "Epoch 85/100\n",
      "32/32 [==============================] - 0s 825us/step - loss: 1.5128e-04\n",
      "Epoch 86/100\n",
      "32/32 [==============================] - 0s 790us/step - loss: 8.8917e-05\n",
      "Epoch 87/100\n",
      "32/32 [==============================] - 0s 800us/step - loss: 6.9120e-05\n",
      "Epoch 88/100\n",
      "32/32 [==============================] - 0s 815us/step - loss: 7.7767e-05\n",
      "Epoch 89/100\n",
      "32/32 [==============================] - 0s 800us/step - loss: 9.8436e-05\n",
      "Epoch 90/100\n",
      "32/32 [==============================] - 0s 816us/step - loss: 1.6028e-04\n",
      "Epoch 91/100\n",
      "32/32 [==============================] - 0s 795us/step - loss: 8.2382e-05\n",
      "Epoch 92/100\n",
      "32/32 [==============================] - 0s 790us/step - loss: 7.5730e-05\n",
      "Epoch 93/100\n",
      "32/32 [==============================] - 0s 795us/step - loss: 6.1024e-05\n",
      "Epoch 94/100\n",
      "32/32 [==============================] - 0s 809us/step - loss: 6.4482e-05\n",
      "Epoch 95/100\n",
      "32/32 [==============================] - 0s 816us/step - loss: 1.0760e-04\n",
      "Epoch 96/100\n",
      "32/32 [==============================] - 0s 822us/step - loss: 8.2714e-05\n",
      "Epoch 97/100\n",
      "32/32 [==============================] - 0s 804us/step - loss: 1.3081e-04\n",
      "Epoch 98/100\n",
      "32/32 [==============================] - 0s 810us/step - loss: 6.5594e-05\n",
      "Epoch 99/100\n",
      "32/32 [==============================] - 0s 812us/step - loss: 2.8663e-04\n",
      "Epoch 100/100\n",
      "32/32 [==============================] - 0s 802us/step - loss: 1.1517e-04\n"
     ]
    },
    {
     "data": {
      "text/plain": [
       "<keras.callbacks.History at 0x7fce48b06c10>"
      ]
     },
     "execution_count": 18,
     "metadata": {},
     "output_type": "execute_result"
    }
   ],
   "source": [
    "from keras.models import Sequential\n",
    "from keras.layers import Dense, Activation\n",
    "from sklearn.preprocessing import MinMaxScaler\n",
    "scaler = MinMaxScaler()\n",
    "# transform data\n",
    "y_scaled = scaler.fit_transform(y.reshape(-1, 1))\n",
    "# Define the network model and its arguments. \n",
    "# Set the number of neurons/nodes for each layer:\n",
    "model = Sequential()\n",
    "# model.add(Dense(10, input_dim=1, activation='tanh'))\n",
    "model.add(Dense(500, input_dim=1, activation='relu'))\n",
    "model.add(Dense(1, activation='linear'))\n",
    "\n",
    "# Compile the model and calculate its accuracy:\n",
    "model.compile(loss='MeanSquaredError', optimizer='adam')\n",
    "\n",
    "# Print a summary of the Keras model:\n",
    "model.summary()\n",
    "\n",
    "# Train this thing\n",
    "model.fit(x, y_scaled, epochs = 100)"
   ]
  },
  {
   "cell_type": "code",
   "execution_count": 19,
   "metadata": {},
   "outputs": [
    {
     "name": "stdout",
     "output_type": "stream",
     "text": [
      "32/32 [==============================] - 0s 681us/step\n"
     ]
    },
    {
     "data": {
      "text/plain": [
       "<matplotlib.collections.PathCollection at 0x7fce48aed760>"
      ]
     },
     "execution_count": 19,
     "metadata": {},
     "output_type": "execute_result"
    },
    {
     "data": {
      "image/png": "[encoded data removed]",
      "text/plain": [
       "<Figure size 432x288 with 1 Axes>"
      ]
     },
     "metadata": {
      "needs_background": "light"
     },
     "output_type": "display_data"
    }
   ],
   "source": [
    "predictions_scaled = model.predict(x)\n",
    "predictions = scaler.inverse_transform(predictions_scaled)\n",
    "# plt.scatter(x.reshape(-1, 1),predictions)\n",
    "plt.scatter(x,y)\n",
    "plt.scatter(x,predictions)"
   ]
  },
  {
   "cell_type": "code",
   "execution_count": 22,
   "metadata": {},
   "outputs": [
    {
     "name": "stdout",
     "output_type": "stream",
     "text": [
      "4/4 [==============================] - 0s 1ms/step\n",
      "    |   Population Average    |             Best Individual              |\n",
      "---- ------------------------- ------------------------------------------ ----------\n",
      " Gen   Length          Fitness   Length          Fitness      OOB Fitness  Time Left\n"
     ]
    },
    {
     "name": "stderr",
     "output_type": "stream",
     "text": [
      "/Users/fascetti/opt/anaconda3/lib/python3.9/site-packages/sklearn/utils/validation.py:1111: DataConversionWarning: A column-vector y was passed when a 1d array was expected. Please change the shape of y to (n_samples, ), for example using ravel().\n",
      "  y = column_or_1d(y, warn=True)\n"
     ]
    },
    {
     "name": "stdout",
     "output_type": "stream",
     "text": [
      "   0    48.81      1.81167e+06       63          15.4713          10.9065      1.46m\n",
      "   1    46.27          1248.82      125          10.3761          5.70114      1.17m\n",
      "   2    59.69           222951      137          5.76967          47.5561      1.20m\n",
      "   3    78.16          75516.1      125          4.44666          3.95276      1.25m\n",
      "   4    90.97           517543       97           3.6165          4.07088      1.27m\n",
      "   5   106.61          5459.18        9          1.35846          1.87993      1.31m\n",
      "   6    97.49          7439.17        9          1.42553          1.27632      1.19m\n",
      "   7    80.57          1861.06        9           1.2392          2.95329     57.29s\n",
      "   8    69.36          3183.68        9          1.24926          2.86274     49.06s\n",
      "   9    74.72          12244.4        9          1.26393          2.73077     46.56s\n",
      "  10    60.53          1194.39      113          1.16937          1.47209     37.27s\n",
      "  11    25.46          1236.67       91          1.08766           2.1012     25.03s\n",
      "  12     9.73          572.792        9          1.21117          3.20558     17.69s\n",
      "  13     9.18          2688.13        9          1.19811          3.32307     16.53s\n",
      "  14     9.12          682.498        9          1.21272          3.19164     13.82s\n",
      "  15     9.27          611.366        9          1.18779          3.41602     11.33s\n",
      "  16     9.06          634.332        9          1.18987          3.39726      7.94s\n",
      "  17     9.11          714.475        9          1.14088          3.83816      5.61s\n",
      "  18     9.23           704894        9          1.18253          3.46332      2.77s\n",
      "  19     9.18           580.79        9          1.13319          3.90737      0.00s\n",
      "mul(add(div(-0.613, 0.050), mul(X0, X0)), X0)\n"
     ]
    }
   ],
   "source": [
    "rng = check_random_state(0)\n",
    "\n",
    "# Training samples\n",
    "X_train = rng.uniform(0, 10, 100).reshape(100, )\n",
    "predictions_scaled = model.predict(X_train)\n",
    "y_train = scaler.inverse_transform(predictions_scaled)\n",
    "\n",
    "est_gp = SymbolicRegressor(population_size=5000,\n",
    "                           generations=20, stopping_criteria=0.01,\n",
    "                           p_crossover=0.7, p_subtree_mutation=0.1,\n",
    "                           p_hoist_mutation=0.05, p_point_mutation=0.1,\n",
    "                           max_samples=0.9, verbose=1,\n",
    "                           parsimony_coefficient=0.01, random_state=0)\n",
    "est_gp.fit(X_train.reshape(-1, 1), y_train)\n",
    "\n",
    "print(est_gp._program)\n",
    "\n",
    "\n"
   ]
  },
  {
   "cell_type": "code",
   "execution_count": 7,
   "metadata": {},
   "outputs": [
    {
     "name": "stdout",
     "output_type": "stream",
     "text": [
      "    |   Population Average    |             Best Individual              |\n",
      "---- ------------------------- ------------------------------------------ ----------\n",
      " Gen   Length          Fitness   Length          Fitness      OOB Fitness  Time Left\n",
      "   0    48.81      1.81167e+06      127           15.499          16.0533      1.44m\n",
      "   1    46.21          1250.15      125           11.169          6.55346      1.19m\n",
      "   2    59.33           222950      137          6.61532           47.778      1.20m\n",
      "   3    75.66          74850.2      125          5.58251          5.61854      1.31m\n",
      "   4    87.63           519045       59          4.69095           4.8317      1.28m\n",
      "   5   104.13          1983.07       35          3.85569          3.17221      1.35m\n",
      "   6    92.96          2824.92       11          3.38222          2.46721      1.14m\n",
      "   7    73.33           763302        9          3.11954          5.59352     56.78s\n",
      "   8    60.99          2176.67       47          3.05095           4.6777     47.18s\n",
      "   9    53.83          796.897       17          2.99614          6.70414     39.51s\n",
      "  10    39.27           1023.3       47          2.93592          5.71298     30.78s\n",
      "  11    20.50          1095.55        9          2.86324           7.9002     23.04s\n",
      "  12    12.08          1114.02       17          2.89388          7.62445     18.29s\n",
      "  13    10.99          1213.55        9            2.842          8.09132     15.75s\n",
      "  14    10.75          992.945       11          2.85319          7.22846     13.42s\n",
      "  15    10.94          954.631       15          2.92227          6.31157     10.57s\n",
      "  16    10.75          1127.42       11          2.84939          6.89783      8.08s\n",
      "  17    10.90          977.405       11          2.81802          7.54494      5.56s\n",
      "  18    11.15           709854       11          2.84935          6.89818      2.74s\n",
      "  19    11.16          902.476       11          2.82874          7.15333      0.00s\n",
      "mul(add(div(-0.613, 0.050), mul(X0, X0)), add(0.050, X0))\n"
     ]
    }
   ],
   "source": [
    "from sklearn.utils.random import check_random_state\n",
    "from gplearn.genetic import SymbolicRegressor\n",
    "import numpy as np\n",
    "\n",
    "rng = check_random_state(0)\n",
    "\n",
    "# Training samples\n",
    "X_train = rng.uniform(0, 10, 100).reshape(100, )\n",
    "y_train = X_train**3 -12*X_train + np.multiply(np.random.randn(len(X_train))*1,X_train)\n",
    "\n",
    "est_gp = SymbolicRegressor(population_size=5000,\n",
    "                           generations=20, stopping_criteria=0.01,\n",
    "                           p_crossover=0.7, p_subtree_mutation=0.1,\n",
    "                           p_hoist_mutation=0.05, p_point_mutation=0.1,\n",
    "                           max_samples=0.9, verbose=1,\n",
    "                           parsimony_coefficient=0.01, random_state=0)\n",
    "est_gp.fit(X_train.reshape(-1, 1), y_train)\n",
    "\n",
    "print(est_gp._program)\n",
    "\n",
    "\n"
   ]
  },
  {
   "cell_type": "markdown",
   "metadata": {},
   "source": [
    "$ (-0.613/0.05 + x^2) * x $\n",
    "\n",
    "$ x^3 - 0.613/0.05 * x = x^3 - 12.26x$\n",
    "\n",
    "$x^3 - 12x $"
   ]
  },
  {
   "cell_type": "code",
   "execution_count": 1,
   "metadata": {},
   "outputs": [
    {
     "data": {
      "text/plain": [
       "12.26"
      ]
     },
     "execution_count": 1,
     "metadata": {},
     "output_type": "execute_result"
    }
   ],
   "source": [
    "0.613/0.05\n"
   ]
  },
  {
   "cell_type": "markdown",
   "metadata": {},
   "source": [
    "**The genetic algorithm returns the following expression:**\n",
    "\n",
    "$x (x^2 - 0.613/0.05)= x^3 - 12.26 x$\n"
   ]
  },
  {
   "cell_type": "code",
   "execution_count": 24,
   "metadata": {},
   "outputs": [
    {
     "data": {
      "text/plain": [
       "<matplotlib.collections.PathCollection at 0x7fce8ec030d0>"
      ]
     },
     "execution_count": 24,
     "metadata": {},
     "output_type": "execute_result"
    },
    {
     "data": {
      "image/png": "[encoded data removed]",
      "text/plain": [
       "<Figure size 432x288 with 1 Axes>"
      ]
     },
     "metadata": {
      "needs_background": "light"
     },
     "output_type": "display_data"
    }
   ],
   "source": [
    "def f_x(x):\n",
    "    return x*(x**2 - 0.613/0.05)\n",
    "\n",
    "plt.scatter(x,y)\n",
    "plt.scatter(x,f_x(x))\n"
   ]
  },
  {
   "cell_type": "code",
   "execution_count": null,
   "metadata": {},
   "outputs": [],
   "source": []
  }
 ],
 "metadata": {
  "kernelspec": {
   "display_name": "Python 3 (ipykernel)",
   "language": "python",
   "name": "python3"
  },
  "language_info": {
   "codemirror_mode": {
    "name": "ipython",
    "version": 3
   },
   "file_extension": ".py",
   "mimetype": "text/x-python",
   "name": "python",
   "nbconvert_exporter": "python",
   "pygments_lexer": "ipython3",
   "version": "3.9.7"
  }
 },
 "nbformat": 4,
 "nbformat_minor": 4
}
