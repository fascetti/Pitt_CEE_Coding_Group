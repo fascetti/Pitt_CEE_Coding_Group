{
 "cells": [
  {
   "cell_type": "markdown",
   "id": "81444ed1-07f7-4bc5-afe1-83eb76ade530",
   "metadata": {},
   "source": [
    "**Floating Point Number to Fraction**"
   ]
  },
  {
   "cell_type": "code",
   "execution_count": 12,
   "id": "ab547572-c29c-4ef6-a3ff-a63c7d0c8251",
   "metadata": {},
   "outputs": [],
   "source": [
    "import math\n",
    "\n",
    "def float_to_frac(x, tol=1e-4):\n",
    "    if isinstance(x, int):\n",
    "        print('The input is an integer, therefore abort!')\n",
    "    else:\n",
    "        residual = 1 # Start with a large value\n",
    "        den = 2 # Initialize multiplier\n",
    "        while residual > tol:\n",
    "            num = x * den\n",
    "            # residual = abs(num - int(num))\n",
    "            residual = abs(math.modf(num)[0])\n",
    "            if residual < tol:\n",
    "                num = round(num)\n",
    "                print('The fraction is {}/{}'.format(num,den))\n",
    "                return (num, den)\n",
    "            else:            \n",
    "                den += 1\n",
    "    \n"
   ]
  },
  {
   "cell_type": "code",
   "execution_count": 20,
   "id": "75a9e004-e606-4df2-8e2e-4bf0ba8c040c",
   "metadata": {},
   "outputs": [
    {
     "name": "stdout",
     "output_type": "stream",
     "text": [
      "The fraction is 83333333/50000000\n",
      "11.309821844100952\n"
     ]
    }
   ],
   "source": [
    "import time\n",
    "start = time.time()\n",
    "res = float_to_frac(1.66666666, 1e-9)\n",
    "end = time.time()\n",
    "elapsed_time = end-start\n",
    "print(elapsed_time)"
   ]
  },
  {
   "cell_type": "code",
   "execution_count": 26,
   "id": "c15ddf40-0273-4b73-9d31-313747a7e82a",
   "metadata": {},
   "outputs": [
    {
     "name": "stdout",
     "output_type": "stream",
     "text": [
      "6.914138793945312e-05\n"
     ]
    }
   ],
   "source": [
    "from fractions import Fraction\n",
    "start = time.time()\n",
    "a = Fraction(1.66666666)\n",
    "end = time.time()\n",
    "elapsed_time = end-start\n",
    "print(elapsed_time)"
   ]
  },
  {
   "cell_type": "code",
   "execution_count": 27,
   "id": "4d0a78f8-5b67-4ba3-bcfc-8678bab02403",
   "metadata": {},
   "outputs": [
    {
     "data": {
      "text/plain": [
       "163768.115942029"
      ]
     },
     "execution_count": 27,
     "metadata": {},
     "output_type": "execute_result"
    }
   ],
   "source": [
    "11.3/6.9e-5"
   ]
  },
  {
   "cell_type": "markdown",
   "id": "e16f0bd8-7a58-4f1e-accf-c29cafcb1586",
   "metadata": {},
   "source": [
    "Second Strategy: Iterate Over num and den"
   ]
  },
  {
   "cell_type": "code",
   "execution_count": 34,
   "id": "5bc8e050-90b0-46b7-8e5d-8977de2217d6",
   "metadata": {
    "tags": []
   },
   "outputs": [],
   "source": [
    "def float_to_fraction_iter(x, tol=1e-6):\n",
    "    if isinstance(x,int):\n",
    "        print('This is an integer')\n",
    "    else:\n",
    "        res, num, den = 1., 1, 1\n",
    "        while res > tol:\n",
    "            if num/den < x:\n",
    "                num += 1\n",
    "            else:\n",
    "                den += 1\n",
    "                num = int(x * den)\n",
    "            res = abs(x - num/den)\n",
    "        print('The fraction is {}/{}'.format(num,den))\n",
    "        return (num,den)\n",
    "        "
   ]
  },
  {
   "cell_type": "code",
   "execution_count": 86,
   "id": "dedcd0a4-9180-4069-94ce-4e4f8c7788cf",
   "metadata": {},
   "outputs": [],
   "source": [
    "def float_to_fraction_dec(x, tol=1e-6, tol2=1e-9):\n",
    "    n, res = 1, 1.\n",
    "    while res > tol:\n",
    "        t = pow(10,n)\n",
    "        num = x * t\n",
    "        decimal = abs(math.modf(num)[0])\n",
    "        if decimal < tol2:\n",
    "            g = math.gcd(int(x * pow(10,n)), pow(10,n))\n",
    "            print('Fraction is {}/{}'.format(int(x * pow(10,n) /g) , int(pow(10,n)/g)))\n",
    "            return\n",
    "        n += 1\n",
    "    "
   ]
  },
  {
   "cell_type": "code",
   "execution_count": 87,
   "id": "5dd418c9-f57f-4317-bba1-469f1885cef5",
   "metadata": {},
   "outputs": [
    {
     "name": "stdout",
     "output_type": "stream",
     "text": [
      "Fraction is 83333333/50000000\n",
      "0.0001308917999267578\n"
     ]
    }
   ],
   "source": [
    "start = time.time()\n",
    "float_to_fraction_dec(1.66666666)\n",
    "end = time.time()\n",
    "print(end-start)"
   ]
  },
  {
   "cell_type": "code",
   "execution_count": 136,
   "id": "9cef825e-ae04-45f0-9aed-6395d3adc8cc",
   "metadata": {},
   "outputs": [],
   "source": [
    "import copy\n",
    "def continued_fractions(x, tol = 1e-16):\n",
    "    res = 1\n",
    "    a = [int(x)]\n",
    "    y = copy.copy(x)\n",
    "    while res > tol:\n",
    "        decimal_part = math.modf(y)[0]\n",
    "        y = 1/decimal_part\n",
    "        a.append(int(y))\n",
    "        b = retrieve_fraction(a)\n",
    "        res = abs(b[0]/b[1] - x)\n",
    "    return a\n",
    "    "
   ]
  },
  {
   "cell_type": "code",
   "execution_count": 137,
   "id": "ce2258dc-6fc5-4cf2-84d8-728e576f74ca",
   "metadata": {},
   "outputs": [
    {
     "name": "stdout",
     "output_type": "stream",
     "text": [
      "6.175041198730469e-05\n"
     ]
    }
   ],
   "source": [
    "start = time.time()\n",
    "a = continued_fractions(3.245,1e-16)\n",
    "end = time.time()\n",
    "print(end-start)"
   ]
  },
  {
   "cell_type": "code",
   "execution_count": 138,
   "id": "ec1e3305-19bf-4046-b812-2fd794662e18",
   "metadata": {},
   "outputs": [
    {
     "data": {
      "text/plain": [
       "-0.00010204081632680939"
      ]
     },
     "execution_count": 138,
     "metadata": {},
     "output_type": "execute_result"
    }
   ],
   "source": [
    "3 + 1/(4 + 1/12) - 3.245"
   ]
  },
  {
   "cell_type": "code",
   "execution_count": 139,
   "id": "f8d73274-d658-4ce6-aecb-405e7dee2dc1",
   "metadata": {},
   "outputs": [],
   "source": [
    "def retrieve_fraction(a):\n",
    "    h = [0, 1]\n",
    "    k = [1, 0]\n",
    "    for ii in range(len(a)):\n",
    "        h.append(a[ii]*h[-1] + h[-2])\n",
    "        k.append(a[ii]*k[-1] + k[-2])\n",
    "    return (h[-1],k[-1])"
   ]
  },
  {
   "cell_type": "code",
   "execution_count": 140,
   "id": "3edbf49b-814d-4e18-a6e3-2310190e4b9b",
   "metadata": {},
   "outputs": [
    {
     "data": {
      "text/plain": [
       "(649, 200)"
      ]
     },
     "execution_count": 140,
     "metadata": {},
     "output_type": "execute_result"
    }
   ],
   "source": [
    "retrieve_fraction(a)"
   ]
  },
  {
   "cell_type": "code",
   "execution_count": 142,
   "id": "6e476fd7-3170-42a2-ae38-1d2838f6d5fa",
   "metadata": {},
   "outputs": [
    {
     "data": {
      "text/plain": [
       "[3, 4, 12, 3, 1]"
      ]
     },
     "execution_count": 142,
     "metadata": {},
     "output_type": "execute_result"
    }
   ],
   "source": [
    "a"
   ]
  },
  {
   "cell_type": "code",
   "execution_count": null,
   "id": "d3bf35e1-b5c9-42f6-8d3e-e1be2ab35b2b",
   "metadata": {},
   "outputs": [],
   "source": []
  }
 ],
 "metadata": {
  "kernelspec": {
   "display_name": "Python 3 (ipykernel)",
   "language": "python",
   "name": "python3"
  },
  "language_info": {
   "codemirror_mode": {
    "name": "ipython",
    "version": 3
   },
   "file_extension": ".py",
   "mimetype": "text/x-python",
   "name": "python",
   "nbconvert_exporter": "python",
   "pygments_lexer": "ipython3",
   "version": "3.9.7"
  }
 },
 "nbformat": 4,
 "nbformat_minor": 5
}
